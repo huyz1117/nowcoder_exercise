{
 "cells": [
  {
   "cell_type": "markdown",
   "metadata": {},
   "source": [
    "# 2019年3月27日"
   ]
  },
  {
   "cell_type": "markdown",
   "metadata": {},
   "source": [
    "## 1、Python append用法"
   ]
  },
  {
   "cell_type": "markdown",
   "metadata": {},
   "source": [
    "append向列表的尾部添加一个新的元素，还有一个类似的方法，extend"
   ]
  },
  {
   "cell_type": "code",
   "execution_count": 1,
   "metadata": {},
   "outputs": [
    {
     "name": "stdout",
     "output_type": "stream",
     "text": [
      "5\n"
     ]
    }
   ],
   "source": [
    "numbers = [1, 2, 3, 4]\n",
    "numbers.append([5, 6, 7, 8])\n",
    "print(len(numbers))"
   ]
  },
  {
   "cell_type": "markdown",
   "metadata": {},
   "source": [
    "列表有类似于string的+用法"
   ]
  },
  {
   "cell_type": "code",
   "execution_count": 2,
   "metadata": {},
   "outputs": [
    {
     "name": "stdout",
     "output_type": "stream",
     "text": [
      "8\n"
     ]
    }
   ],
   "source": [
    "numbers1 = [1, 2, 3, 4]\n",
    "numbers1 += [5, 6, 7, 8]\n",
    "print(len(numbers1))"
   ]
  },
  {
   "cell_type": "markdown",
   "metadata": {},
   "source": [
    "- **补**：extend\n",
    "    - extend()方法只接受一个列表作为参数，向原有列表中添加多个元素"
   ]
  },
  {
   "cell_type": "code",
   "execution_count": 3,
   "metadata": {},
   "outputs": [
    {
     "name": "stdout",
     "output_type": "stream",
     "text": [
      "[1, 2, 3, 'a', 1, 3, 5]\n"
     ]
    }
   ],
   "source": [
    "a = [1, 2, 3]\n",
    "a.extend(['a', 1, 3, 5])\n",
    "print(a)"
   ]
  },
  {
   "cell_type": "markdown",
   "metadata": {},
   "source": [
    "## 2、赋值、深拷贝、浅拷贝"
   ]
  },
  {
   "cell_type": "markdown",
   "metadata": {},
   "source": [
    "- 对象的赋值\n",
    "    - 都是进行对象的引用（内存地址）传递，即'b is a'，a变b也变，b变a也变\n",
    "- 浅拷贝\n",
    "    - 只会拷贝父对象，不会拷贝父对象中的子对象，所以若a的子对象变则c变，但是父对象变c不变\n",
    "- 深拷贝\n",
    "    - 我们寻常意义上的复制就是深拷贝，即将被复制的对象完全复制一遍作为独立的新个体单独存在。所以改变原有被复制的对象不会对已经复制出来的新对象产生影响"
   ]
  },
  {
   "cell_type": "markdown",
   "metadata": {},
   "source": [
    "例"
   ]
  },
  {
   "cell_type": "code",
   "execution_count": 4,
   "metadata": {},
   "outputs": [],
   "source": [
    "import copy\n",
    "origin = [1, 2, [3, 4]]\n",
    "copy1 = copy.copy(origin)\n",
    "copy2 = copy.deepcopy(origin)"
   ]
  },
  {
   "cell_type": "code",
   "execution_count": 5,
   "metadata": {},
   "outputs": [
    {
     "data": {
      "text/plain": [
       "True"
      ]
     },
     "execution_count": 5,
     "metadata": {},
     "output_type": "execute_result"
    }
   ],
   "source": [
    "copy1 == copy2"
   ]
  },
  {
   "cell_type": "code",
   "execution_count": 6,
   "metadata": {},
   "outputs": [
    {
     "data": {
      "text/plain": [
       "False"
      ]
     },
     "execution_count": 6,
     "metadata": {},
     "output_type": "execute_result"
    }
   ],
   "source": [
    "copy1 is copy2"
   ]
  },
  {
   "cell_type": "code",
   "execution_count": 7,
   "metadata": {},
   "outputs": [
    {
     "data": {
      "text/plain": [
       "[1, 2, ['hey', 4]]"
      ]
     },
     "execution_count": 7,
     "metadata": {},
     "output_type": "execute_result"
    }
   ],
   "source": [
    "origin[2][0] = 'hey'\n",
    "origin"
   ]
  },
  {
   "cell_type": "code",
   "execution_count": 8,
   "metadata": {},
   "outputs": [
    {
     "data": {
      "text/plain": [
       "[1, 2, ['hey', 4]]"
      ]
     },
     "execution_count": 8,
     "metadata": {},
     "output_type": "execute_result"
    }
   ],
   "source": [
    "copy1"
   ]
  },
  {
   "cell_type": "code",
   "execution_count": 9,
   "metadata": {},
   "outputs": [
    {
     "data": {
      "text/plain": [
       "[1, 2, [3, 4]]"
      ]
     },
     "execution_count": 9,
     "metadata": {},
     "output_type": "execute_result"
    }
   ],
   "source": [
    "copy2"
   ]
  },
  {
   "cell_type": "markdown",
   "metadata": {},
   "source": [
    "牛客网题目"
   ]
  },
  {
   "cell_type": "code",
   "execution_count": 10,
   "metadata": {},
   "outputs": [],
   "source": [
    "import copy\n",
    "a = [1, 2, 3, 4, ['a', 'b']]\n",
    "b = a\n",
    "c = copy.copy(a)   # 浅拷贝，a中的1, 2, 3, 4直接复制了一份给c，而a中的第4个元素是一个列表，复制了一份引用（内存地址），所以子对象变则c变\n",
    "d = copy.deepcopy(a)\n",
    "a.append(5)\n",
    "a[4].append('c')"
   ]
  },
  {
   "cell_type": "code",
   "execution_count": 11,
   "metadata": {},
   "outputs": [
    {
     "name": "stdout",
     "output_type": "stream",
     "text": [
      "[1, 2, 3, 4, ['a', 'b', 'c'], 5]\n",
      "[1, 2, 3, 4, ['a', 'b', 'c'], 5]\n",
      "[1, 2, 3, 4, ['a', 'b', 'c']]\n",
      "[1, 2, 3, 4, ['a', 'b']]\n"
     ]
    }
   ],
   "source": [
    "print(a)\n",
    "print(b)\n",
    "print(c)\n",
    "print(d)"
   ]
  },
  {
   "cell_type": "markdown",
   "metadata": {},
   "source": [
    "## 3、比较大小"
   ]
  },
  {
   "cell_type": "markdown",
   "metadata": {},
   "source": [
    "- python2和python3均不支持复数比较大小\n",
    "- python2和python3均支持连续比较，如$3>2>2$，相当于`3>2 and 2>2`，后一个判断式为假，因此整个表达式都为假\n",
    "- python2支持数字与字符串之间比较，而python3不支持，tuple的比较是从两者的第一个元素的ASCII码开始，直到两个元素不相等为止\n",
    "- 字符串的比较与tuple类似，也是从第一个字符的ASCII码开始比较大小，直到两个字符不相等为止，字母与数字的ASCII码大小范围是\"a-z\">\"A-Z\">\"0-9\""
   ]
  },
  {
   "cell_type": "code",
   "execution_count": 12,
   "metadata": {},
   "outputs": [
    {
     "data": {
      "text/plain": [
       "False"
      ]
     },
     "execution_count": 12,
     "metadata": {},
     "output_type": "execute_result"
    }
   ],
   "source": [
    "3>2>2"
   ]
  },
  {
   "cell_type": "code",
   "execution_count": 13,
   "metadata": {},
   "outputs": [
    {
     "data": {
      "text/plain": [
       "True"
      ]
     },
     "execution_count": 13,
     "metadata": {},
     "output_type": "execute_result"
    }
   ],
   "source": [
    "'abc' < 'xyz'"
   ]
  },
  {
   "cell_type": "markdown",
   "metadata": {},
   "source": [
    "## 4、Python逻辑运算符"
   ]
  },
  {
   "cell_type": "markdown",
   "metadata": {},
   "source": [
    "a = 10, b = 20"
   ]
  },
  {
   "cell_type": "markdown",
   "metadata": {},
   "source": [
    "|运算符 | 逻辑表达式 | 描述 | 实例|\n",
    ":--- | :----- | :--------------------- | :-\n",
    "and | x and y | 布尔‘与’- 如果x为False，x and y返回False，否则他返回y的计算值| (a and b)返回20  |\n",
    "or | x or b | 布尔‘或’- 如果x是True，他返回x的值，否则他返回y的计算值 | (a or b)返回10 |\n",
    "not| not x| 布尔‘非’- 如果x为True，返回False，如果x为False，他返回True| not(a and b) 返回False"
   ]
  },
  {
   "cell_type": "markdown",
   "metadata": {},
   "source": [
    "牛客网题目："
   ]
  },
  {
   "cell_type": "code",
   "execution_count": 14,
   "metadata": {},
   "outputs": [
    {
     "name": "stdout",
     "output_type": "stream",
     "text": [
      "c\n"
     ]
    }
   ],
   "source": [
    "a = 'a'\n",
    "print(a > 'b' or 'c')"
   ]
  },
  {
   "cell_type": "markdown",
   "metadata": {},
   "source": [
    "## 5、Python异常捕捉"
   ]
  },
  {
   "cell_type": "markdown",
   "metadata": {},
   "source": [
    "- 异常是一个事件，该事件会在程序执行过程中发生，影响程序正常执行。当python脚本发生异常时，我们需要捕获处理他，否则程序会终止执行\n",
    "- 捕捉异常可以使用try/except语句"
   ]
  },
  {
   "cell_type": "markdown",
   "metadata": {},
   "source": [
    "try:的语句出现异常才会执行except后的语句，如果正常，则执行完try后执行else。另外，finally语句不管有无异常都会执行"
   ]
  },
  {
   "cell_type": "markdown",
   "metadata": {},
   "source": [
    "牛客网题目："
   ]
  },
  {
   "cell_type": "code",
   "execution_count": 15,
   "metadata": {},
   "outputs": [
    {
     "name": "stdout",
     "output_type": "stream",
     "text": [
      "4\n"
     ]
    }
   ],
   "source": [
    "a = 1\n",
    "try:\n",
    "    a += 1\n",
    "except:\n",
    "    a += 1\n",
    "else:\n",
    "    a += 1\n",
    "finally:\n",
    "    a += 1\n",
    "\n",
    "print(a)"
   ]
  },
  {
   "cell_type": "markdown",
   "metadata": {},
   "source": [
    "## 6"
   ]
  },
  {
   "cell_type": "code",
   "execution_count": 16,
   "metadata": {},
   "outputs": [],
   "source": [
    "foo = [1, 2]\n",
    "foo1 = foo\n",
    "foo.append(3)"
   ]
  },
  {
   "cell_type": "code",
   "execution_count": 17,
   "metadata": {},
   "outputs": [
    {
     "name": "stdout",
     "output_type": "stream",
     "text": [
      "[1, 2, 3]\n",
      "[1, 2, 3]\n"
     ]
    }
   ],
   "source": [
    "print(foo)\n",
    "print(foo1)"
   ]
  }
 ],
 "metadata": {
  "kernelspec": {
   "display_name": "Python 3",
   "language": "python",
   "name": "python3"
  },
  "language_info": {
   "codemirror_mode": {
    "name": "ipython",
    "version": 3
   },
   "file_extension": ".py",
   "mimetype": "text/x-python",
   "name": "python",
   "nbconvert_exporter": "python",
   "pygments_lexer": "ipython3",
   "version": "3.6.5"
  }
 },
 "nbformat": 4,
 "nbformat_minor": 2
}
