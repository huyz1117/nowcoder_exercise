{
 "cells": [
  {
   "cell_type": "markdown",
   "metadata": {},
   "source": [
    "# 2019年3月8日记录"
   ]
  },
  {
   "cell_type": "markdown",
   "metadata": {},
   "source": [
    "## 1、关于字符串的说法\n",
    "- 在三引号字符串中可以包含换行回车登特殊字符\n",
    "- 在python中字符串是一个固定长度的字符数组，不需要结束符\n",
    "- 在C语言中字符串是以`\\0`作为结束符防止越界"
   ]
  },
  {
   "cell_type": "markdown",
   "metadata": {},
   "source": [
    "## 2、字典\n",
    "- 字典是一种可变容器，可存储任意类型的对象\n",
    "- 键必须是唯一的，但值不必\n",
    "- **值可以是任何数据类型，但键必须是不可变的**，如字符串，数字或元组\n",
    "- `dict1 = {(1, 2, 3): 'asd'}`、`dict2 = {3: 5}`均合法，`dict = {[1, 2, 3]: 'asd'}`不合法\n",
    "- 使用列表作为键会报如下错误：`unhashable type: 'list'`"
   ]
  },
  {
   "cell_type": "markdown",
   "metadata": {},
   "source": [
    "## 3、比较大小"
   ]
  },
  {
   "cell_type": "markdown",
   "metadata": {},
   "source": [
    "- 复数不能比较大小\n",
    "- Python2和Python3均支持连续比较，如`3>2>2`相当于`3>2 and 2>2`，后一个判断式为加，所以整个表达式为假\n",
    "- Python2支持数字与字符串的比较(比较的是ASCII码值)，Python3不支持\n",
    "- tuple的比较是从两者的第一个元素的ASCII码开始，直到两个元素不相等为止，若前面元素都相等，则元素个数多的的tuple较大\n",
    "- 字符串的比较与tuple类似，也是从第一个字符的ASCII码开始比较，直到两个字符不相等为止,字符与数字的ASCII码大小范围是：\"a-z\">\"A-Z\">\"0-9\""
   ]
  },
  {
   "cell_type": "code",
   "execution_count": 1,
   "metadata": {},
   "outputs": [
    {
     "data": {
      "text/plain": [
       "True"
      ]
     },
     "execution_count": 1,
     "metadata": {},
     "output_type": "execute_result"
    }
   ],
   "source": [
    "(1, 9) < (8, 2)"
   ]
  },
  {
   "cell_type": "code",
   "execution_count": 2,
   "metadata": {},
   "outputs": [
    {
     "data": {
      "text/plain": [
       "True"
      ]
     },
     "execution_count": 2,
     "metadata": {},
     "output_type": "execute_result"
    }
   ],
   "source": [
    "(8, 2) > (1, 2, 3)"
   ]
  },
  {
   "cell_type": "code",
   "execution_count": 3,
   "metadata": {},
   "outputs": [
    {
     "data": {
      "text/plain": [
       "False"
      ]
     },
     "execution_count": 3,
     "metadata": {},
     "output_type": "execute_result"
    }
   ],
   "source": [
    "'abc' > 'xyz'"
   ]
  },
  {
   "cell_type": "code",
   "execution_count": 4,
   "metadata": {},
   "outputs": [
    {
     "data": {
      "text/plain": [
       "True"
      ]
     },
     "execution_count": 4,
     "metadata": {},
     "output_type": "execute_result"
    }
   ],
   "source": [
    "'asx' > \"Asc\""
   ]
  },
  {
   "cell_type": "markdown",
   "metadata": {},
   "source": [
    "# 4、Python逻辑运算符"
   ]
  },
  {
   "cell_type": "markdown",
   "metadata": {},
   "source": [
    "- `and`：`x and y`，如果`x`为`False`，`x and y`返回`False`，否则它返回`y`的计算值\n",
    "- `or`：`x or y`，如果`x`是`True`，它返回`x`的值，否则返回`y`的计算值\n",
    "- `not`：`not x`，如果`x`为`True`，返回`False`，如果`x`为`False`，它返回`True`"
   ]
  },
  {
   "cell_type": "markdown",
   "metadata": {},
   "source": [
    "|Operation|Result|\n",
    "|--------|-----|\n",
    "|x and y|if x is False, then x, else y|\n",
    "|x or y|if x is False, then y, else x|\n",
    "|not x|if x is False, then True, else False|"
   ]
  },
  {
   "cell_type": "code",
   "execution_count": 5,
   "metadata": {},
   "outputs": [],
   "source": [
    "a = 10\n",
    "b = 20"
   ]
  },
  {
   "cell_type": "code",
   "execution_count": 6,
   "metadata": {},
   "outputs": [
    {
     "data": {
      "text/plain": [
       "20"
      ]
     },
     "execution_count": 6,
     "metadata": {},
     "output_type": "execute_result"
    }
   ],
   "source": [
    "a and b"
   ]
  },
  {
   "cell_type": "code",
   "execution_count": 7,
   "metadata": {},
   "outputs": [
    {
     "data": {
      "text/plain": [
       "10"
      ]
     },
     "execution_count": 7,
     "metadata": {},
     "output_type": "execute_result"
    }
   ],
   "source": [
    "a or b"
   ]
  },
  {
   "cell_type": "code",
   "execution_count": 8,
   "metadata": {},
   "outputs": [
    {
     "data": {
      "text/plain": [
       "False"
      ]
     },
     "execution_count": 8,
     "metadata": {},
     "output_type": "execute_result"
    }
   ],
   "source": [
    "not(a and b)"
   ]
  },
  {
   "cell_type": "markdown",
   "metadata": {},
   "source": [
    "所以以下代码运行结果为："
   ]
  },
  {
   "cell_type": "code",
   "execution_count": 9,
   "metadata": {},
   "outputs": [
    {
     "name": "stdout",
     "output_type": "stream",
     "text": [
      "c\n"
     ]
    }
   ],
   "source": [
    "a = 'a'\n",
    "print(a > 'b' or 'c')"
   ]
  }
 ],
 "metadata": {
  "kernelspec": {
   "display_name": "Python 3",
   "language": "python",
   "name": "python3"
  },
  "language_info": {
   "codemirror_mode": {
    "name": "ipython",
    "version": 3
   },
   "file_extension": ".py",
   "mimetype": "text/x-python",
   "name": "python",
   "nbconvert_exporter": "python",
   "pygments_lexer": "ipython3",
   "version": "3.6.5"
  }
 },
 "nbformat": 4,
 "nbformat_minor": 2
}
