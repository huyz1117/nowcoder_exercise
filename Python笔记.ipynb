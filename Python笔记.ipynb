{
 "cells": [
  {
   "cell_type": "markdown",
   "metadata": {},
   "source": [
    "# `Python`学习记录"
   ]
  },
  {
   "cell_type": "markdown",
   "metadata": {},
   "source": [
    "## 2019年2月27刷题记录"
   ]
  },
  {
   "cell_type": "markdown",
   "metadata": {},
   "source": [
    "### 1、`Python`中**@**的使用：\n",
    "- @相当于在一个函数中调用另一个函数"
   ]
  },
  {
   "cell_type": "code",
   "execution_count": null,
   "metadata": {},
   "outputs": [],
   "source": [
    "def funcA(x):\n",
    "    print(x())\n",
    "    print('-----------------------')\n",
    "    \n",
    "@funcA\n",
    "def funcB():\n",
    "    return 'Hello, world'"
   ]
  },
  {
   "cell_type": "markdown",
   "metadata": {},
   "source": [
    "相当于执行funcA(funcB())，所以x()相当于funcB()，而且定义完funcB()，就执行funcA(x)，不用在代码后再写funcA()了"
   ]
  },
  {
   "cell_type": "markdown",
   "metadata": {},
   "source": [
    "牛客网上[Python练习题](https://www.nowcoder.com/test/question/done?tid=21399853&qid=144535#summary)"
   ]
  },
  {
   "cell_type": "code",
   "execution_count": null,
   "metadata": {},
   "outputs": [],
   "source": [
    "def dec(f):\n",
    "    n = 3\n",
    "    def wrapper(*args, **kw):\n",
    "        return f(*args, **kw) * 3\n",
    "    return wrapper\n",
    "\n",
    "@dec\n",
    "def foo(n):\n",
    "    return n * 2\n",
    "\n",
    "foo(2)"
   ]
  },
  {
   "cell_type": "markdown",
   "metadata": {},
   "source": [
    "**装饰器（Decrator）**本身是一个函数，目的是在不改变待装饰函数代码的情况下，增加额外的功能，装饰器的返回值是已装饰函数的对象"
   ]
  },
  {
   "cell_type": "markdown",
   "metadata": {},
   "source": [
    "以foo(2)为例，**@dec作用是把原foo函数（待装饰函数）赋值给dec()函数（装饰器函数）**"
   ]
  },
  {
   "cell_type": "markdown",
   "metadata": {},
   "source": [
    "foo(2)相当于执行``foo(2) * 3 = 12``"
   ]
  },
  {
   "cell_type": "markdown",
   "metadata": {},
   "source": [
    "## 2、`global`的用法"
   ]
  },
  {
   "cell_type": "code",
   "execution_count": 1,
   "metadata": {},
   "outputs": [
    {
     "name": "stdout",
     "output_type": "stream",
     "text": [
      "123\n",
      "1\n"
     ]
    }
   ],
   "source": [
    "num = 1\n",
    "\n",
    "def fun():\n",
    "    num = 123\n",
    "    print(num)\n",
    "    \n",
    "fun()\n",
    "print(num)"
   ]
  },
  {
   "cell_type": "markdown",
   "metadata": {},
   "source": [
    "此处没有`global`,无法对全局变量进行更改，想要对全局变量进行更改，需要用到`global`关键字："
   ]
  },
  {
   "cell_type": "code",
   "execution_count": 2,
   "metadata": {},
   "outputs": [
    {
     "name": "stdout",
     "output_type": "stream",
     "text": [
      "123\n",
      "123\n"
     ]
    }
   ],
   "source": [
    "num = 1\n",
    "\n",
    "def fun():\n",
    "    global num\n",
    "    num = 123\n",
    "    print(num)\n",
    "    \n",
    "fun()\n",
    "print(num)"
   ]
  },
  {
   "cell_type": "markdown",
   "metadata": {},
   "source": [
    "牛客网[练习题](https://www.nowcoder.com/test/question/done?tid=21399853&qid=141953#summary)"
   ]
  },
  {
   "cell_type": "code",
   "execution_count": 3,
   "metadata": {},
   "outputs": [
    {
     "name": "stdout",
     "output_type": "stream",
     "text": [
      "4\n"
     ]
    }
   ],
   "source": [
    "counter = 1\n",
    "\n",
    "def doLotsofStuff():\n",
    "    global counter\n",
    "    for i in (1, 2, 3):\n",
    "        counter += 1\n",
    "        \n",
    "doLotsofStuff()\n",
    "print(counter)"
   ]
  },
  {
   "cell_type": "markdown",
   "metadata": {},
   "source": [
    "## 3、`r`的用法"
   ]
  },
  {
   "cell_type": "markdown",
   "metadata": {},
   "source": [
    "`Python`中字符串前`r`代表**原始字符串标志符**，该字符串内中的特殊符号不会被转义。如果要输出字符串`\\n`，由于反斜杠的转义，一般的输出语句为："
   ]
  },
  {
   "cell_type": "code",
   "execution_count": null,
   "metadata": {},
   "outputs": [],
   "source": [
    "print('\\\\n')"
   ]
  },
  {
   "cell_type": "markdown",
   "metadata": {},
   "source": [
    "而采用原始字符串输出时，则不会对字符串进行转义："
   ]
  },
  {
   "cell_type": "code",
   "execution_count": null,
   "metadata": {},
   "outputs": [],
   "source": [
    "print(r'\\nrow')"
   ]
  },
  {
   "cell_type": "markdown",
   "metadata": {},
   "source": [
    "**注**：上面为牛客网[练习题](https://www.nowcoder.com/test/question/done?tid=21399853&qid=141954#summary)"
   ]
  },
  {
   "cell_type": "markdown",
   "metadata": {},
   "source": [
    "## 4、除法**/**在不同Python版本中的问题"
   ]
  },
  {
   "cell_type": "markdown",
   "metadata": {},
   "source": [
    "在``Python2.x``中，除法默认向下取整，因此：$1/2=0$，为整型"
   ]
  },
  {
   "cell_type": "markdown",
   "metadata": {},
   "source": [
    "而在`Python3.x`中除法位置正常的除法，会保留小数，因此$1/2=0.5$，为浮点型"
   ]
  },
  {
   "cell_type": "code",
   "execution_count": null,
   "metadata": {},
   "outputs": [],
   "source": [
    "print(1/2)\n",
    "print(type(1/2))"
   ]
  },
  {
   "cell_type": "markdown",
   "metadata": {},
   "source": [
    "## 5、$0**0=1$"
   ]
  },
  {
   "cell_type": "code",
   "execution_count": null,
   "metadata": {},
   "outputs": [],
   "source": [
    "[i ** i for i in range(3)]"
   ]
  },
  {
   "cell_type": "markdown",
   "metadata": {},
   "source": [
    "## 6、函数对象"
   ]
  },
  {
   "cell_type": "markdown",
   "metadata": {},
   "source": [
    "在Python中万物皆对象，函数也不例外，函数可以作为对象赋值给一个变量、可以作为元素添加到集合对象中去、可以作为参数值传递给其他函数、还可以作为函数的返回值。"
   ]
  },
  {
   "cell_type": "markdown",
   "metadata": {},
   "source": [
    "## 2019年2月28日刷题记录"
   ]
  },
  {
   "cell_type": "markdown",
   "metadata": {},
   "source": [
    "### 7、字符串格式化问题"
   ]
  },
  {
   "cell_type": "markdown",
   "metadata": {},
   "source": [
    "- Python中`%d`表示数字，`%s`表示字符串，`%%`表示一个`%`，在不知道数据类型的情况下可以统一使用`%s`；\n",
    "- 单引号内嵌套单引号需要转义字符`\\`，单引号内嵌套双引号不需要转义字符；\n",
    "- 双引号内嵌套双引号需要转义字符`\\`，双引号内嵌套单引号不需要转义字符。"
   ]
  },
  {
   "cell_type": "code",
   "execution_count": null,
   "metadata": {},
   "outputs": [],
   "source": [
    "print('GNU's Not %d %%'%'UNIX')"
   ]
  },
  {
   "cell_type": "code",
   "execution_count": null,
   "metadata": {},
   "outputs": [],
   "source": [
    "print('GNU\\'s Not %s %%'%'UNIX')"
   ]
  },
  {
   "cell_type": "code",
   "execution_count": null,
   "metadata": {},
   "outputs": [],
   "source": [
    "print(\"GNU's Not %s %%\"%'UNIX')"
   ]
  },
  {
   "cell_type": "markdown",
   "metadata": {},
   "source": [
    "### 8、Python版本问题"
   ]
  },
  {
   "cell_type": "markdown",
   "metadata": {},
   "source": [
    "- 在`Python3`中，`math.floor(x)`返回一个不大于`x`的最大整数，为整型(向下取整，`math.ceil`为向上取整)\n",
    "- 而在`Python2`中，返回的浮点型"
   ]
  },
  {
   "cell_type": "code",
   "execution_count": null,
   "metadata": {},
   "outputs": [],
   "source": [
    "import math\n",
    "\n",
    "print(math.floor(5.5))\n",
    "print(type(math.floor(5.5)))\n",
    "print(math.ceil(5.5))"
   ]
  },
  {
   "cell_type": "markdown",
   "metadata": {},
   "source": [
    "### 9、`if __name__ == __main__`的作用"
   ]
  },
  {
   "cell_type": "markdown",
   "metadata": {},
   "source": [
    "`if __name__ == __main__`的功能是：`make a script both importable and executable`，即让你写的脚本模块既可以导入别的模块中用，另外该模块也可以自己执行"
   ]
  },
  {
   "cell_type": "markdown",
   "metadata": {},
   "source": [
    "先写一个测试模块，保存为`atestmodule.py`，代码如下："
   ]
  },
  {
   "cell_type": "code",
   "execution_count": null,
   "metadata": {},
   "outputs": [],
   "source": [
    "def addFunc(a, b):\n",
    "    return a + b\n",
    "\n",
    "print('atestmodule计算结果：', addFunc(1, 2))"
   ]
  },
  {
   "cell_type": "markdown",
   "metadata": {},
   "source": [
    "再写一个模块`anothermodule.py`来调用上面的模块，代码如下："
   ]
  },
  {
   "cell_type": "code",
   "execution_count": null,
   "metadata": {},
   "outputs": [],
   "source": [
    "import atestmodule\n",
    "\n",
    "print('调用anothermodule模块执行结果：', atestmodule.addFunc(12, 23))"
   ]
  },
  {
   "cell_type": "markdown",
   "metadata": {},
   "source": [
    "- 显然，当运行`anothermodule.py`时，第一句并不是我所需要的，为了解决这个问题，`Python`提供了一个系统变量：`__name__`\n",
    "- **注**，`name`两边各有2个下划线__，`__name__`有两个取值，当该模块是被调用执行的，取值为该模块的名字，当模块是被直接执行的，则该变量去值为：`__main__`\n",
    "- 于是，被调用模块的测试代码就可以写在`if`语句里，如下："
   ]
  },
  {
   "cell_type": "code",
   "execution_count": null,
   "metadata": {},
   "outputs": [],
   "source": [
    "def addFunc(a, b):\n",
    "    return a + b\n",
    "\n",
    "if __name__ == '__main__':\n",
    "    print('atestmodule计算结果：', addFunc(1, 2))"
   ]
  },
  {
   "cell_type": "code",
   "execution_count": null,
   "metadata": {},
   "outputs": [],
   "source": [
    "import atestmodule\n",
    "\n",
    "print('调用anothermodule模块执行结果：', atestmodule.addFunc(12, 23))"
   ]
  },
  {
   "cell_type": "markdown",
   "metadata": {},
   "source": [
    "此时可以看到，并没有输出多余的结果，主要原因在于当调用一个`module`时，此时`__name__`取值为该模块的名字，所以`if`判断为假，不执行后续代码,具体看`.py`文件中`__name__`的变化"
   ]
  },
  {
   "cell_type": "markdown",
   "metadata": {},
   "source": [
    "所以牛客网下面这道题输出为`__main__`："
   ]
  },
  {
   "cell_type": "code",
   "execution_count": null,
   "metadata": {},
   "outputs": [],
   "source": [
    "class Person:\n",
    "    def __init__(self):\n",
    "        pass\n",
    "    def getAge(self):\n",
    "        print(__name__)\n",
    "        \n",
    "p = Person()\n",
    "p.getAge()"
   ]
  },
  {
   "cell_type": "markdown",
   "metadata": {},
   "source": [
    "### 10、`Python`的复制，深拷贝和浅拷贝的区别"
   ]
  },
  {
   "cell_type": "markdown",
   "metadata": {},
   "source": [
    "前言：`Python3`中有6种标准的数据类型，他们有可分为可变和不可变：\n",
    "- 不可变数据：\n",
    "    - 数字（number）\n",
    "    - 字符串（string）\n",
    "    - 元组（tuple）\n",
    "- 可变数据\n",
    "    - 列表（list）\n",
    "    - 集合（set）\n",
    "    - 字典（dictionary）"
   ]
  },
  {
   "cell_type": "markdown",
   "metadata": {},
   "source": [
    "在`Python`中，对象的赋值实际上是对象的引用。当创建一个对象，然后把它赋值给另一个变量的时候，`Python`并没有拷贝这个对象，而只是拷贝了这个对象的引用。复制一般有三种方法：直接赋值、浅拷贝、深拷贝"
   ]
  },
  {
   "cell_type": "code",
   "execution_count": null,
   "metadata": {},
   "outputs": [],
   "source": [
    "aList = [1, 2, 3, ['a', 'b']]"
   ]
  },
  {
   "cell_type": "markdown",
   "metadata": {},
   "source": [
    "(1）**直接赋值**，建立对象的引用值，而不是复制对象，只传递对象的引用而已，原始列表改变，被赋值的变量也会随之改变："
   ]
  },
  {
   "cell_type": "code",
   "execution_count": null,
   "metadata": {},
   "outputs": [],
   "source": [
    "b = aList\n",
    "aList.append(4)\n",
    "print(aList)\n",
    "print(b)"
   ]
  },
  {
   "cell_type": "code",
   "execution_count": null,
   "metadata": {},
   "outputs": [],
   "source": [
    "b.append(5)\n",
    "print(b)\n",
    "print(aList)"
   ]
  },
  {
   "cell_type": "markdown",
   "metadata": {},
   "source": [
    "(2) **浅拷贝**：\n",
    "- 对于不可变类型`number、string、tuple`，浅拷贝仅仅是地址指向，不会开辟新空间\n",
    "- 对于可变类型`list、dictionary、set`，浅拷贝会开辟新的空间地址\n",
    "- 浅拷贝后，改变原始对象中为可变类型的元素值，会同时影响拷贝对象；改变原始对象中为不可变类型的元素值，只有原始类型受影响\n",
    "- 操作对拷贝对象对原始对象的改变也是同理"
   ]
  },
  {
   "cell_type": "markdown",
   "metadata": {},
   "source": [
    "**可变类型和不可变类型在浅拷贝中的区别**"
   ]
  },
  {
   "cell_type": "code",
   "execution_count": 2,
   "metadata": {},
   "outputs": [
    {
     "name": "stdout",
     "output_type": "stream",
     "text": [
      "对于不可变类型，浅复制仅仅是地址指向，不会开辟新空间拷贝值\n",
      "num1内存地址：4371335008\n",
      "num2内存地址：4371335008\n",
      "str1内存地址：4406045472\n",
      "str2内存地址：4406045472\n",
      "tup1内存地址：4404902280\n",
      "tup2内存地址：4404902280\n",
      "------------------------------\n",
      "对于可变类型，浅复制会开辟新的空间地址，\n",
      "list1内存地址：4406201800\n",
      "list2内存地址：4406201928\n",
      "dic1内存地址：4406284360\n",
      "dic2内存地址：4406214520\n",
      "set1内存地址：4405251656\n",
      "set2内存地址：4406165576\n"
     ]
    }
   ],
   "source": [
    "import copy\n",
    "\n",
    "# 不可变类型\n",
    "print('对于不可变类型，浅复制仅仅是地址指向，不会开辟新空间拷贝值')\n",
    "\n",
    "num1 = 17\n",
    "num2 = copy.copy(num1)\n",
    "\n",
    "print('num1内存地址：' + str(id(num1)))        # id()用于获取对象的内存地址\n",
    "print('num2内存地址：' + str(id(num2)))\n",
    "\n",
    "str1 = 'hello'\n",
    "str2 = copy.copy(str1)\n",
    "print('str1内存地址：' + str(id(str1)))\n",
    "print('str2内存地址：' + str(id(str2)))\n",
    "\n",
    "tup1 = (18, 'tom')\n",
    "tup2 = copy.copy(tup1)\n",
    "print('tup1内存地址：' + str(id(tup1)))\n",
    "print('tup2内存地址：' + str(id(tup2)))\n",
    "\n",
    "print('-'*30)\n",
    "print('对于可变类型，浅复制会开辟新的空间地址，')\n",
    "\n",
    "list1 = [11, 12]\n",
    "list2 = copy.copy(list1)\n",
    "print('list1内存地址：' + str(id(list1)))\n",
    "print('list2内存地址：' + str(id(list2)))\n",
    "\n",
    "dic1 = {'a': 1, 'b':2}\n",
    "dic2 = copy.copy(dic1)\n",
    "print('dic1内存地址：' + str(id(dic1)))\n",
    "print('dic2内存地址：' + str(id(dic2)))\n",
    "\n",
    "set1 = {'aa', 'bb'}        # 集合使用大括号{}或者set()来创建\n",
    "set2 = copy.copy(set1)\n",
    "print('set1内存地址：' + str(id(set1)))\n",
    "print('set2内存地址：' + str(id(set2)))"
   ]
  },
  {
   "cell_type": "markdown",
   "metadata": {},
   "source": [
    "对list浅拷贝，对可变类型和不可变类型修改后的影响："
   ]
  },
  {
   "cell_type": "code",
   "execution_count": 1,
   "metadata": {},
   "outputs": [
    {
     "name": "stdout",
     "output_type": "stream",
     "text": [
      "[[16, 12], [21, 22], 666]\n",
      "[[16, 12], [21, 22], 555]\n",
      "id allOne: 4406199560\n",
      "id allOne[0]: 4406199304\n",
      "None\n",
      "id allOne[1]: 4406199368\n",
      "None\n",
      "id allOne[2]: 4405579728\n",
      "None\n",
      "-----------\n",
      "id allOne2: 4406199240\n",
      "id allOne2[0]: 4406199304\n",
      "id allOne2[1]: 4406199368\n",
      "id allOne2[2]: 4405579408\n"
     ]
    }
   ],
   "source": [
    "import copy\n",
    "\n",
    "l1 = [11, 12]\n",
    "l2 = [21, 22]\n",
    "num = 555\n",
    "\n",
    "allOne = [l1, l2, num]\n",
    "\n",
    "# 浅拷贝，创建出一个对象，并把旧对象元素的引用地址拷贝到新对象中\n",
    "# 也就是说，两个对象里面的元素通过浅拷贝指向的还是同一个地址\n",
    "allOne2 = copy.copy(allOne)\n",
    "l1[0] = 16     # 此处修改，会使得allOne和allOne2的第0个元素的值都发生改变，因为l1是list，是可变对象\n",
    "allOne[2] = 666   # 此处修改只会改变allOne的num的值，因为不可变对象一旦重新赋值，地址就会发生改变\n",
    "\n",
    "num = 777     # 此处修改不会改变allOne和allOne2的值，因为相当于777复制给一个全新的地址\n",
    "\n",
    "print(allOne)\n",
    "print(allOne2)\n",
    "\n",
    "print('id allOne: ' + str(id(allOne)))\n",
    "print(print('id allOne[0]: ' + str(id(allOne[0]))))\n",
    "print(print('id allOne[1]: ' + str(id(allOne[1]))))\n",
    "print(print('id allOne[2]: ' + str(id(allOne[2]))))\n",
    "\n",
    "print('-----------')\n",
    "\n",
    "print('id allOne2: ' + str(id(allOne2)))\n",
    "print('id allOne2[0]: ' + str(id(allOne2[0])))\n",
    "print('id allOne2[1]: ' + str(id(allOne2[1])))\n",
    "print('id allOne2[2]: ' + str(id(allOne2[2])))"
   ]
  },
  {
   "cell_type": "markdown",
   "metadata": {},
   "source": [
    "可以看出：\n",
    "- 改变allOne中可变类型，会影响allOne2，改变allone2同理会影响allOne\n",
    "- 改变allOne2中不可变类型，只有allOne2自身会改变，allOne不受影响"
   ]
  },
  {
   "cell_type": "markdown",
   "metadata": {},
   "source": [
    "**深拷贝对6种基本类型的影响**\n",
    "- 经过深拷贝后，原始对象和拷贝对象所有元素地址没有相同的了"
   ]
  },
  {
   "cell_type": "code",
   "execution_count": 3,
   "metadata": {},
   "outputs": [
    {
     "name": "stdout",
     "output_type": "stream",
     "text": [
      "对于不可变类型，深复制依然是地址指向，不会开辟新空间拷贝值\n",
      "num1内存地址：4371335008\n",
      "num2内存地址：4371335008\n",
      "str1内存地址：4406045472\n",
      "str2内存地址：4406045472\n",
      "tup1内存地址：4404900936\n",
      "tup2内存地址：4404900936\n",
      "------------------------------\n",
      "对于可变类型，深复制会开辟新的空间地址，进行拷贝\n",
      "list1内存地址：4406090248\n",
      "list2内存地址：4406219016\n",
      "dic1内存地址：4406210992\n",
      "dic2内存地址：4406284432\n",
      "set1内存地址：4406166920\n",
      "set2内存地址：4405251656\n"
     ]
    }
   ],
   "source": [
    "import copy\n",
    "\n",
    "# 不可变类型\n",
    "print('对于不可变类型，深复制依然是地址指向，不会开辟新空间拷贝值')\n",
    "\n",
    "num1 = 17\n",
    "num2 = copy.deepcopy(num1)\n",
    "\n",
    "print('num1内存地址：' + str(id(num1)))        # id()用于获取对象的内存地址\n",
    "print('num2内存地址：' + str(id(num2)))\n",
    "\n",
    "str1 = 'hello'\n",
    "str2 = copy.deepcopy(str1)\n",
    "print('str1内存地址：' + str(id(str1)))\n",
    "print('str2内存地址：' + str(id(str2)))\n",
    "\n",
    "tup1 = (18, 'tom')\n",
    "tup2 = copy.deepcopy(tup1)\n",
    "print('tup1内存地址：' + str(id(tup1)))\n",
    "print('tup2内存地址：' + str(id(tup2)))\n",
    "\n",
    "print('-'*30)\n",
    "print('对于可变类型，深复制会开辟新的空间地址，进行拷贝')\n",
    "\n",
    "list1 = [11, 12]\n",
    "list2 = copy.deepcopy(list1)\n",
    "print('list1内存地址：' + str(id(list1)))\n",
    "print('list2内存地址：' + str(id(list2)))\n",
    "\n",
    "dic1 = {'a': 1, 'b':2}\n",
    "dic2 = copy.deepcopy(dic1)\n",
    "print('dic1内存地址：' + str(id(dic1)))\n",
    "print('dic2内存地址：' + str(id(dic2)))\n",
    "\n",
    "set1 = {'aa', 'bb'}        # 集合使用大括号{}或者set()来创建\n",
    "set2 = copy.deepcopy(set1)\n",
    "print('set1内存地址：' + str(id(set1)))\n",
    "print('set2内存地址：' + str(id(set2)))"
   ]
  },
  {
   "cell_type": "markdown",
   "metadata": {},
   "source": [
    "经过深拷贝，原始对象和拷贝对象所有子元素的地址都是独立的了,对原对象做任何操作，拷贝对象不会改变"
   ]
  },
  {
   "cell_type": "code",
   "execution_count": null,
   "metadata": {},
   "outputs": [],
   "source": []
  }
 ],
 "metadata": {
  "kernelspec": {
   "display_name": "Python 3",
   "language": "python",
   "name": "python3"
  },
  "language_info": {
   "codemirror_mode": {
    "name": "ipython",
    "version": 3
   },
   "file_extension": ".py",
   "mimetype": "text/x-python",
   "name": "python",
   "nbconvert_exporter": "python",
   "pygments_lexer": "ipython3",
   "version": "3.6.5"
  }
 },
 "nbformat": 4,
 "nbformat_minor": 2
}
