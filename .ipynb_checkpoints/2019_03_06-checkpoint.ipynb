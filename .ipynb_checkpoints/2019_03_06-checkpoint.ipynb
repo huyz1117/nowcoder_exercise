{
 "cells": [
  {
   "cell_type": "markdown",
   "metadata": {},
   "source": [
    "# 1、map函数"
   ]
  },
  {
   "cell_type": "markdown",
   "metadata": {},
   "source": [
    "map会根据提供的函数对指定序列做映射，语法：map(function, iterable, ...)，python2.x返回列表，python3.x返回迭代器"
   ]
  },
  {
   "cell_type": "code",
   "execution_count": 1,
   "metadata": {},
   "outputs": [],
   "source": [
    "def square(x):\n",
    "    return x ** 2\n",
    "\n",
    "it = map(square, [1, 2, 3, 4, 5])"
   ]
  },
  {
   "cell_type": "code",
   "execution_count": 2,
   "metadata": {},
   "outputs": [
    {
     "data": {
      "text/plain": [
       "<map at 0x105307f60>"
      ]
     },
     "execution_count": 2,
     "metadata": {},
     "output_type": "execute_result"
    }
   ],
   "source": [
    "it"
   ]
  },
  {
   "cell_type": "code",
   "execution_count": 3,
   "metadata": {},
   "outputs": [
    {
     "data": {
      "text/plain": [
       "[1, 4, 9, 16, 25]"
      ]
     },
     "execution_count": 3,
     "metadata": {},
     "output_type": "execute_result"
    }
   ],
   "source": [
    "list(it)"
   ]
  },
  {
   "cell_type": "markdown",
   "metadata": {},
   "source": [
    "# 2、lambda表达式"
   ]
  },
  {
   "cell_type": "markdown",
   "metadata": {},
   "source": [
    "lambda表达式通常是在需要一个函数，但是又不想去命名一个函数的场合下使用，也就是匿名函数。“一个语法，三个特性，四个用法”"
   ]
  },
  {
   "cell_type": "markdown",
   "metadata": {},
   "source": [
    "一个语法，形式如下：lambda argument_list: expression\n",
    "- 其中，lambda是python预留的关键字，argument_list和expression由用户自定义，如下：\n",
    "    - argument_list是参数列表，它的结构与python中的函数的参数列表是一样的，可以有很多形式，如`a, b`、`a=1, b=2`、`*args`、`空`\n",
    "    - expression是关于参数的表达式，表达式中出现的参数需要在argument_list中有定义，并且表达式只能是单行，以下都是合法表达式：`1`、`None`、`a+b`、`1 if a>10 else 0`"
   ]
  },
  {
   "cell_type": "markdown",
   "metadata": {},
   "source": [
    "三个特性\n",
    "- lambda函数是匿名的，即没有名字\n",
    "- lambda函数有输入和输出：输入是传入到参数列表argument_list的值，输出是根据表达式expression计算得到的值\n",
    "- lambda函数功能简单，单行完成不了复杂的逻辑"
   ]
  },
  {
   "cell_type": "markdown",
   "metadata": {},
   "source": [
    "下面是一些lambda函数示例：\n",
    "- `lambda x, y: x * y`\n",
    "- `lambda: None`#函数没有输入参数，输出时None\n",
    "- `lambda **kwargs:1 `# 输入是任意键值对参数，输出是1"
   ]
  },
  {
   "cell_type": "markdown",
   "metadata": {},
   "source": [
    "用法：\n",
    "- 将lambda函数赋值给一个变量，通过这个变量间接调用该lambda函数"
   ]
  },
  {
   "cell_type": "code",
   "execution_count": 4,
   "metadata": {},
   "outputs": [
    {
     "data": {
      "text/plain": [
       "3"
      ]
     },
     "execution_count": 4,
     "metadata": {},
     "output_type": "execute_result"
    }
   ],
   "source": [
    "add = lambda x, y: x + y\n",
    "add(1, 2)"
   ]
  },
  {
   "cell_type": "markdown",
   "metadata": {},
   "source": [
    "- 将lambda函数作为参数传递给其他函数，部分python内置函数接受函数作为参数，如：\n",
    "    - filter函数。此时lambda函数用于指定过滤列表元素的条件。如将制定列表[1, 2, 3, 4, 5, 6]中能够被3整除的元素过滤处理出来"
   ]
  },
  {
   "cell_type": "code",
   "execution_count": 9,
   "metadata": {},
   "outputs": [],
   "source": [
    "new_list = filter(lambda x: x % 3 == 0, [1, 2, 3, 4, 5, 6])      #是个迭代器"
   ]
  },
  {
   "cell_type": "code",
   "execution_count": 10,
   "metadata": {},
   "outputs": [
    {
     "data": {
      "text/plain": [
       "[3, 6]"
      ]
     },
     "execution_count": 10,
     "metadata": {},
     "output_type": "execute_result"
    }
   ],
   "source": [
    "list(new_list)"
   ]
  },
  {
   "cell_type": "markdown",
   "metadata": {},
   "source": [
    "- sorted函数。此时lambda函数用于指定对列表中所有元素进行排序的准则。如将列表[1, 2, 3, 4, 5, 6, 7, 8, 9]按照元素与5距离远近从小到大进行排序"
   ]
  },
  {
   "cell_type": "code",
   "execution_count": 11,
   "metadata": {},
   "outputs": [],
   "source": [
    "new_sort = sorted([1, 2, 3, 4, 5, 6, 7, 8, 9], key=lambda x: abs(x - 5))"
   ]
  },
  {
   "cell_type": "code",
   "execution_count": 12,
   "metadata": {},
   "outputs": [
    {
     "data": {
      "text/plain": [
       "[5, 4, 6, 3, 7, 2, 8, 1, 9]"
      ]
     },
     "execution_count": 12,
     "metadata": {},
     "output_type": "execute_result"
    }
   ],
   "source": [
    "list(new_sort)"
   ]
  },
  {
   "cell_type": "markdown",
   "metadata": {},
   "source": [
    "- map函数。此时lambda函数用于指定对列表中的每一个元素的共同的操作。例如将列表中的元素分别加1:"
   ]
  },
  {
   "cell_type": "code",
   "execution_count": 13,
   "metadata": {},
   "outputs": [
    {
     "data": {
      "text/plain": [
       "[2, 3, 4]"
      ]
     },
     "execution_count": 13,
     "metadata": {},
     "output_type": "execute_result"
    }
   ],
   "source": [
    "new_list = map(lambda x: x + 1, [1, 2, 3])\n",
    "list(new_list)"
   ]
  },
  {
   "cell_type": "markdown",
   "metadata": {},
   "source": [
    "## 牛客网题目"
   ]
  },
  {
   "cell_type": "markdown",
   "metadata": {},
   "source": [
    "以下代码运行结果是："
   ]
  },
  {
   "cell_type": "code",
   "execution_count": 20,
   "metadata": {},
   "outputs": [
    {
     "data": {
      "text/plain": [
       "[1, 8, 27]"
      ]
     },
     "execution_count": 20,
     "metadata": {},
     "output_type": "execute_result"
    }
   ],
   "source": [
    "a = map(lambda x: x ** 3, [1, 2, 3])\n",
    "list(a)"
   ]
  },
  {
   "cell_type": "markdown",
   "metadata": {},
   "source": [
    "Python的标识符不能以数字开头，这也是编程语言通用规则"
   ]
  },
  {
   "cell_type": "markdown",
   "metadata": {},
   "source": [
    "# 3、from sys import argv"
   ]
  },
  {
   "cell_type": "markdown",
   "metadata": {},
   "source": [
    "sys是python的内置模块，argv为参数变量，可以视为参数列表，通过sys.argv[]来提取，sys.argv[0]表示参数列表中的第一个参数，即脚本本身的名称。"
   ]
  }
 ],
 "metadata": {
  "kernelspec": {
   "display_name": "Python 3",
   "language": "python",
   "name": "python3"
  },
  "language_info": {
   "codemirror_mode": {
    "name": "ipython",
    "version": 3
   },
   "file_extension": ".py",
   "mimetype": "text/x-python",
   "name": "python",
   "nbconvert_exporter": "python",
   "pygments_lexer": "ipython3",
   "version": "3.6.5"
  }
 },
 "nbformat": 4,
 "nbformat_minor": 2
}
